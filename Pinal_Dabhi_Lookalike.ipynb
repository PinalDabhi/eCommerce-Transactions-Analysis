{
 "cells": [
  {
   "cell_type": "markdown",
   "id": "15e4e887",
   "metadata": {},
   "source": [
    "# Task 2: Lookalike Model"
   ]
  },
  {
   "cell_type": "code",
   "execution_count": 1,
   "id": "fb921c21",
   "metadata": {},
   "outputs": [],
   "source": [
    "import pandas as pd\n",
    "import numpy as np\n",
    "from sklearn.preprocessing import LabelEncoder, StandardScaler\n",
    "from sklearn.metrics import pairwise_distances\n",
    "from sklearn.cluster import KMeans\n",
    "from sklearn.metrics import davies_bouldin_score, silhouette_score\n",
    "from sklearn.decomposition import PCA\n",
    "from scipy.spatial.distance import cosine"
   ]
  },
  {
   "cell_type": "code",
   "execution_count": 3,
   "id": "9efa8e73",
   "metadata": {},
   "outputs": [
    {
     "name": "stdout",
     "output_type": "stream",
     "text": [
      "  CustomerID        CustomerName         Region  SignupDate\n",
      "0      C0001    Lawrence Carroll  South America  2022-07-10\n",
      "1      C0002      Elizabeth Lutz           Asia  2022-02-13\n",
      "2      C0003      Michael Rivera  South America  2024-03-07\n",
      "3      C0004  Kathleen Rodriguez  South America  2022-10-09\n",
      "4      C0005         Laura Weber           Asia  2022-08-15\n"
     ]
    }
   ],
   "source": [
    "customers = pd.read_csv(r'C:\\Users\\DELL\\Downloads\\Data Science intenship assignment\\Customers.csv')\n",
    "print(customers.head())"
   ]
  },
  {
   "cell_type": "code",
   "execution_count": 4,
   "id": "8e0a9360",
   "metadata": {},
   "outputs": [
    {
     "name": "stdout",
     "output_type": "stream",
     "text": [
      "  ProductID              ProductName     Category   Price\n",
      "0      P001     ActiveWear Biography        Books  169.30\n",
      "1      P002    ActiveWear Smartwatch  Electronics  346.30\n",
      "2      P003  ComfortLiving Biography        Books   44.12\n",
      "3      P004            BookWorld Rug   Home Decor   95.69\n",
      "4      P005          TechPro T-Shirt     Clothing  429.31\n"
     ]
    }
   ],
   "source": [
    "products = pd.read_csv(r'C:\\Users\\DELL\\Downloads\\Data Science intenship assignment\\Products.csv')\n",
    "print(products.head())"
   ]
  },
  {
   "cell_type": "code",
   "execution_count": 5,
   "id": "18a36555",
   "metadata": {},
   "outputs": [
    {
     "name": "stdout",
     "output_type": "stream",
     "text": [
      "  TransactionID CustomerID ProductID      TransactionDate  Quantity  \\\n",
      "0        T00001      C0199      P067  2024-08-25 12:38:23         1   \n",
      "1        T00112      C0146      P067  2024-05-27 22:23:54         1   \n",
      "2        T00166      C0127      P067  2024-04-25 07:38:55         1   \n",
      "3        T00272      C0087      P067  2024-03-26 22:55:37         2   \n",
      "4        T00363      C0070      P067  2024-03-21 15:10:10         3   \n",
      "\n",
      "   TotalValue   Price  \n",
      "0      300.68  300.68  \n",
      "1      300.68  300.68  \n",
      "2      300.68  300.68  \n",
      "3      601.36  300.68  \n",
      "4      902.04  300.68  \n"
     ]
    }
   ],
   "source": [
    "transactions = pd.read_csv(r'C:\\Users\\DELL\\Downloads\\Data Science intenship assignment\\Transactions.csv')\n",
    "print(transactions.head())"
   ]
  },
  {
   "cell_type": "code",
   "execution_count": 6,
   "id": "2ec1f8f9",
   "metadata": {},
   "outputs": [],
   "source": [
    "# Convert date columns to datetime\n",
    "\n",
    "customers['SignupDate'] = pd.to_datetime(customers['SignupDate'])\n",
    "transactions['TransactionDate'] = pd.to_datetime(transactions['TransactionDate'])"
   ]
  },
  {
   "cell_type": "code",
   "execution_count": 7,
   "id": "078f4df1",
   "metadata": {},
   "outputs": [
    {
     "name": "stdout",
     "output_type": "stream",
     "text": [
      "          Quantity   TotalValue     Price_x     Price_y\n",
      "count  1000.000000  1000.000000  1000.00000  1000.00000\n",
      "mean      2.537000   689.995560   272.55407   272.55407\n",
      "std       1.117981   493.144478   140.73639   140.73639\n",
      "min       1.000000    16.080000    16.08000    16.08000\n",
      "25%       2.000000   295.295000   147.95000   147.95000\n",
      "50%       3.000000   588.880000   299.93000   299.93000\n",
      "75%       4.000000  1011.660000   404.40000   404.40000\n",
      "max       4.000000  1991.040000   497.76000   497.76000\n"
     ]
    }
   ],
   "source": [
    "merged_data = pd.merge(transactions, customers, on='CustomerID')\n",
    "merged_data = pd.merge(merged_data, products, on='ProductID')\n",
    "print(merged_data.describe())"
   ]
  },
  {
   "cell_type": "markdown",
   "id": "d56857ff",
   "metadata": {},
   "source": [
    "Step 1: Preprocess Data"
   ]
  },
  {
   "cell_type": "code",
   "execution_count": 11,
   "id": "6f8a9dd2",
   "metadata": {},
   "outputs": [],
   "source": [
    "# Aggregate transaction data by customer\n",
    "customer_features = merged_data.groupby('CustomerID').agg({\n",
    "    'TotalValue': 'sum',\n",
    "    'Quantity': 'sum',\n",
    "    'Price_x': 'mean',\n",
    "    'Category': lambda x: x.nunique()\n",
    "}).reset_index()"
   ]
  },
  {
   "cell_type": "code",
   "execution_count": 15,
   "id": "4fb29923",
   "metadata": {},
   "outputs": [],
   "source": [
    "# Encode regions\n",
    "le = LabelEncoder()\n",
    "customers['RegionEncoded'] = le.fit_transform(customers['Region'])"
   ]
  },
  {
   "cell_type": "code",
   "execution_count": 16,
   "id": "4f2cec93",
   "metadata": {},
   "outputs": [],
   "source": [
    "# Merge profile and transaction data\n",
    "lookalike_data = pd.merge(customer_features, customers[['CustomerID', 'RegionEncoded']], on='CustomerID')"
   ]
  },
  {
   "cell_type": "code",
   "execution_count": 17,
   "id": "1a7146b6",
   "metadata": {},
   "outputs": [],
   "source": [
    "# Scale data\n",
    "scaler = StandardScaler()\n",
    "lookalike_scaled = scaler.fit_transform(lookalike_data.drop('CustomerID', axis=1))"
   ]
  },
  {
   "cell_type": "code",
   "execution_count": 18,
   "id": "aa8f382e",
   "metadata": {},
   "outputs": [],
   "source": [
    "# Compute similarity scores using cosine similarity\n",
    "similarity_matrix = 1 - pairwise_distances(lookalike_scaled, metric='cosine')"
   ]
  },
  {
   "cell_type": "code",
   "execution_count": 19,
   "id": "6a78bd3b",
   "metadata": {},
   "outputs": [],
   "source": [
    "# Recommend top 3 similar customers for the first 20 customers\n",
    "lookalikes = {}\n",
    "for idx, customer_id in enumerate(lookalike_data['CustomerID'][:20]):\n",
    "    similar_indices = np.argsort(-similarity_matrix[idx])[1:4]  # Top 3 excluding itself\n",
    "    lookalikes[customer_id] = [(lookalike_data['CustomerID'][i], round(similarity_matrix[idx][i], 2)) for i in similar_indices]\n"
   ]
  },
  {
   "cell_type": "code",
   "execution_count": 20,
   "id": "a302ac0d",
   "metadata": {},
   "outputs": [
    {
     "name": "stdout",
     "output_type": "stream",
     "text": [
      "                   0              1              2\n",
      "C0001  (C0011, 0.97)  (C0152, 0.96)  (C0107, 0.95)\n",
      "C0002  (C0142, 0.99)  (C0159, 0.96)  (C0019, 0.92)\n",
      "C0003  (C0174, 0.94)   (C0047, 0.9)  (C0091, 0.89)\n",
      "C0004  (C0165, 0.98)  (C0018, 0.96)  (C0012, 0.96)\n",
      "C0005  (C0140, 0.99)  (C0186, 0.98)  (C0123, 0.98)\n",
      "C0006  (C0107, 0.95)  (C0183, 0.95)  (C0187, 0.95)\n",
      "C0007  (C0115, 0.97)  (C0186, 0.96)  (C0092, 0.94)\n",
      "C0008  (C0113, 0.94)  (C0109, 0.92)  (C0169, 0.92)\n",
      "C0009  (C0061, 0.97)  (C0198, 0.94)  (C0128, 0.93)\n",
      "C0010  (C0060, 0.94)  (C0033, 0.88)  (C0176, 0.88)\n",
      "C0011  (C0107, 0.98)  (C0001, 0.97)  (C0126, 0.95)\n",
      "C0012  (C0108, 0.96)  (C0087, 0.96)  (C0148, 0.96)\n",
      "C0013  (C0148, 0.99)  (C0099, 0.98)  (C0155, 0.97)\n",
      "C0014  (C0062, 0.98)  (C0097, 0.98)  (C0197, 0.98)\n",
      "C0015  (C0058, 0.98)  (C0131, 0.97)   (C0042, 0.9)\n",
      "C0016  (C0185, 0.98)  (C0079, 0.97)  (C0026, 0.94)\n",
      "C0017  (C0075, 0.96)  (C0053, 0.95)  (C0041, 0.94)\n",
      "C0018  (C0165, 0.99)  (C0004, 0.96)  (C0065, 0.95)\n",
      "C0019  (C0073, 0.99)  (C0197, 0.98)  (C0199, 0.97)\n",
      "C0020  (C0131, 0.97)  (C0130, 0.96)  (C0150, 0.96)\n"
     ]
    }
   ],
   "source": [
    "# Convert to DataFrame\n",
    "lookalikes_df = pd.DataFrame.from_dict(lookalikes, orient='index')\n",
    "lookalikes_df.to_csv('Lookalike.csv', index_label='CustomerID')\n",
    "print(lookalikes_df)"
   ]
  },
  {
   "cell_type": "code",
   "execution_count": null,
   "id": "a2ed7c6d",
   "metadata": {},
   "outputs": [],
   "source": []
  }
 ],
 "metadata": {
  "kernelspec": {
   "display_name": "Python 3 (ipykernel)",
   "language": "python",
   "name": "python3"
  },
  "language_info": {
   "codemirror_mode": {
    "name": "ipython",
    "version": 3
   },
   "file_extension": ".py",
   "mimetype": "text/x-python",
   "name": "python",
   "nbconvert_exporter": "python",
   "pygments_lexer": "ipython3",
   "version": "3.9.13"
  }
 },
 "nbformat": 4,
 "nbformat_minor": 5
}
